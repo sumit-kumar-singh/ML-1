{
 "cells": [
  {
   "cell_type": "code",
   "execution_count": 2,
   "metadata": {},
   "outputs": [],
   "source": [
    "# importing libraires\n",
    "import numpy as np\n",
    "import pandas as pd\n",
    "\n",
    "# importing metrics\n",
    "from sklearn.metrics import accuracy_score\n",
    "from sklearn.metrics import precision_score\n",
    "from sklearn.metrics import recall_score\n",
    "\n",
    "from sklearn.model_selection import train_test_split\n",
    "from sklearn.linear_model import LogisticRegression\n",
    "from sklearn.tree import DecisionTreeClassifier\n",
    "\n",
    "import warnings\n",
    "warnings.filterwarnings('ignore')"
   ]
  },
  {
   "cell_type": "code",
   "execution_count": 3,
   "metadata": {},
   "outputs": [
    {
     "data": {
      "text/html": [
       "<div>\n",
       "<style scoped>\n",
       "    .dataframe tbody tr th:only-of-type {\n",
       "        vertical-align: middle;\n",
       "    }\n",
       "\n",
       "    .dataframe tbody tr th {\n",
       "        vertical-align: top;\n",
       "    }\n",
       "\n",
       "    .dataframe thead th {\n",
       "        text-align: right;\n",
       "    }\n",
       "</style>\n",
       "<table border=\"1\" class=\"dataframe\">\n",
       "  <thead>\n",
       "    <tr style=\"text-align: right;\">\n",
       "      <th></th>\n",
       "      <th>Survived</th>\n",
       "      <th>Pclass</th>\n",
       "      <th>Sex</th>\n",
       "      <th>Age</th>\n",
       "      <th>SibSp</th>\n",
       "      <th>Parch</th>\n",
       "      <th>Fare</th>\n",
       "      <th>Embarked_C</th>\n",
       "      <th>Embarked_Q</th>\n",
       "      <th>Embarked_S</th>\n",
       "    </tr>\n",
       "  </thead>\n",
       "  <tbody>\n",
       "    <tr>\n",
       "      <th>0</th>\n",
       "      <td>0</td>\n",
       "      <td>1</td>\n",
       "      <td>1</td>\n",
       "      <td>37.0</td>\n",
       "      <td>1</td>\n",
       "      <td>0</td>\n",
       "      <td>53.1000</td>\n",
       "      <td>0</td>\n",
       "      <td>0</td>\n",
       "      <td>1</td>\n",
       "    </tr>\n",
       "    <tr>\n",
       "      <th>1</th>\n",
       "      <td>1</td>\n",
       "      <td>2</td>\n",
       "      <td>0</td>\n",
       "      <td>21.0</td>\n",
       "      <td>0</td>\n",
       "      <td>0</td>\n",
       "      <td>10.5000</td>\n",
       "      <td>0</td>\n",
       "      <td>0</td>\n",
       "      <td>1</td>\n",
       "    </tr>\n",
       "    <tr>\n",
       "      <th>2</th>\n",
       "      <td>0</td>\n",
       "      <td>2</td>\n",
       "      <td>1</td>\n",
       "      <td>25.0</td>\n",
       "      <td>0</td>\n",
       "      <td>0</td>\n",
       "      <td>13.0000</td>\n",
       "      <td>0</td>\n",
       "      <td>0</td>\n",
       "      <td>1</td>\n",
       "    </tr>\n",
       "    <tr>\n",
       "      <th>3</th>\n",
       "      <td>1</td>\n",
       "      <td>1</td>\n",
       "      <td>1</td>\n",
       "      <td>48.0</td>\n",
       "      <td>0</td>\n",
       "      <td>0</td>\n",
       "      <td>26.5500</td>\n",
       "      <td>0</td>\n",
       "      <td>0</td>\n",
       "      <td>1</td>\n",
       "    </tr>\n",
       "    <tr>\n",
       "      <th>4</th>\n",
       "      <td>1</td>\n",
       "      <td>1</td>\n",
       "      <td>0</td>\n",
       "      <td>32.0</td>\n",
       "      <td>0</td>\n",
       "      <td>0</td>\n",
       "      <td>76.2917</td>\n",
       "      <td>1</td>\n",
       "      <td>0</td>\n",
       "      <td>0</td>\n",
       "    </tr>\n",
       "  </tbody>\n",
       "</table>\n",
       "</div>"
      ],
      "text/plain": [
       "   Survived  Pclass  Sex   Age  SibSp  Parch     Fare  Embarked_C  Embarked_Q  \\\n",
       "0         0       1    1  37.0      1      0  53.1000           0           0   \n",
       "1         1       2    0  21.0      0      0  10.5000           0           0   \n",
       "2         0       2    1  25.0      0      0  13.0000           0           0   \n",
       "3         1       1    1  48.0      0      0  26.5500           0           0   \n",
       "4         1       1    0  32.0      0      0  76.2917           1           0   \n",
       "\n",
       "   Embarked_S  \n",
       "0           1  \n",
       "1           1  \n",
       "2           1  \n",
       "3           1  \n",
       "4           0  "
      ]
     },
     "execution_count": 3,
     "metadata": {},
     "output_type": "execute_result"
    }
   ],
   "source": [
    "# loading dataset\n",
    "titanic_df = pd.read_csv('datasets/titanic-processed.csv')\n",
    "titanic_df.head()"
   ]
  },
  {
   "cell_type": "code",
   "execution_count": 4,
   "metadata": {},
   "outputs": [],
   "source": [
    "# spliting data into train and test data\n",
    "X = titanic_df.drop('Survived', axis=1)\n",
    "Y = titanic_df['Survived']\n",
    "\n",
    "x_train, x_test, y_train, y_test = train_test_split(X, Y, test_size=0.2)"
   ]
  },
  {
   "cell_type": "code",
   "execution_count": 21,
   "metadata": {},
   "outputs": [],
   "source": [
    "# defining summarize function\n",
    "def summarize_classification(y_test, y_pred):\n",
    "    accuracy = accuracy_score(y_test, y_pred, normalize=True)\n",
    "    precision = precision_score(y_test, y_pred)\n",
    "    recall = recall_score(y_test, y_pred)\n",
    "    \n",
    "    print('Test data count :', len(y_test))\n",
    "    print('Accuracy Score :', accuracy)\n",
    "    print('Precision Score :', precision)\n",
    "    print('Recall Score :', recall)\n",
    "    print()"
   ]
  },
  {
   "cell_type": "code",
   "execution_count": 22,
   "metadata": {},
   "outputs": [
    {
     "data": {
      "text/plain": [
       "{'max_depth': 5}"
      ]
     },
     "execution_count": 22,
     "metadata": {},
     "output_type": "execute_result"
    }
   ],
   "source": [
    "# using hyperparameter tunning for DecisionTree\n",
    "from sklearn.model_selection import GridSearchCV\n",
    "\n",
    "parameters = {'max_depth': [2, 4, 5, 6, 7, 9, 10]}\n",
    "\n",
    "grid_search = GridSearchCV(DecisionTreeClassifier(), parameters, cv=3, return_train_score=True)\n",
    "grid_search.fit(x_train, y_train)\n",
    "\n",
    "grid_search.best_params_"
   ]
  },
  {
   "cell_type": "code",
   "execution_count": 23,
   "metadata": {},
   "outputs": [
    {
     "name": "stdout",
     "output_type": "stream",
     "text": [
      "Parameters : {'max_depth': 2}\n",
      "Mean Test Score : 0.7803163444639719\n",
      "Rank Test Score: 5\n",
      "Parameters : {'max_depth': 4}\n",
      "Mean Test Score : 0.7996485061511424\n",
      "Rank Test Score: 2\n",
      "Parameters : {'max_depth': 5}\n",
      "Mean Test Score : 0.8066783831282952\n",
      "Rank Test Score: 1\n",
      "Parameters : {'max_depth': 6}\n",
      "Mean Test Score : 0.7943760984182777\n",
      "Rank Test Score: 3\n",
      "Parameters : {'max_depth': 7}\n",
      "Mean Test Score : 0.7855887521968365\n",
      "Rank Test Score: 4\n",
      "Parameters : {'max_depth': 9}\n",
      "Mean Test Score : 0.7662565905096661\n",
      "Rank Test Score: 6\n",
      "Parameters : {'max_depth': 10}\n",
      "Mean Test Score : 0.7644991212653779\n",
      "Rank Test Score: 7\n"
     ]
    }
   ],
   "source": [
    "# finding out best max depth value for this model\n",
    "for i in range(len(parameters['max_depth'])):\n",
    "    print('Parameters :', grid_search.cv_results_['params'][i])\n",
    "    print('Mean Test Score :', grid_search.cv_results_['mean_test_score'][i])\n",
    "    print('Rank Test Score:', grid_search.cv_results_['rank_test_score'][i])"
   ]
  },
  {
   "cell_type": "code",
   "execution_count": 24,
   "metadata": {},
   "outputs": [],
   "source": [
    "# buliding decision reg\n",
    "decision_tree_model = DecisionTreeClassifier(max_depth=grid_search.best_params_['max_depth']).fit(x_train, y_train)"
   ]
  },
  {
   "cell_type": "code",
   "execution_count": 25,
   "metadata": {},
   "outputs": [],
   "source": [
    "# predicting y\n",
    "y_pred = decision_tree_model.predict(x_test)"
   ]
  },
  {
   "cell_type": "code",
   "execution_count": 26,
   "metadata": {},
   "outputs": [
    {
     "name": "stdout",
     "output_type": "stream",
     "text": [
      "Test data count : 143\n",
      "Accuracy Score : 0.8111888111888111\n",
      "Precision Score : 0.7291666666666666\n",
      "Recall Score : 0.7142857142857143\n",
      "\n"
     ]
    }
   ],
   "source": [
    "# summarizing the scores\n",
    "summarize_classification(y_test, y_pred)"
   ]
  },
  {
   "cell_type": "code",
   "execution_count": null,
   "metadata": {},
   "outputs": [],
   "source": []
  },
  {
   "cell_type": "code",
   "execution_count": 31,
   "metadata": {},
   "outputs": [
    {
     "data": {
      "text/plain": [
       "{'C': 0.8, 'penalty': 'l1'}"
      ]
     },
     "execution_count": 31,
     "metadata": {},
     "output_type": "execute_result"
    }
   ],
   "source": [
    "# buliding hyperparameters for Logistic Regression\n",
    "parameters = {'penalty':['l1', 'l2'], 'C':[0.1, 0.4, 0.8, 1, 2, 5]}\n",
    "\n",
    "grid_search = GridSearchCV(LogisticRegression(solver='liblinear'), parameters, cv=3, return_train_score=True)\n",
    "grid_search.fit(x_train, y_train)\n",
    "\n",
    "grid_search.best_params_"
   ]
  },
  {
   "cell_type": "code",
   "execution_count": 34,
   "metadata": {},
   "outputs": [
    {
     "name": "stdout",
     "output_type": "stream",
     "text": [
      "Parameters : {'C': 0.1, 'penalty': 'l1'}\n",
      "Mean Test Score : 0.7697715289982425\n",
      "Rank Test Score: 12\n",
      "Parameters : {'C': 0.1, 'penalty': 'l2'}\n",
      "Mean Test Score : 0.7750439367311072\n",
      "Rank Test Score: 10\n",
      "Parameters : {'C': 0.4, 'penalty': 'l1'}\n",
      "Mean Test Score : 0.7803163444639719\n",
      "Rank Test Score: 3\n",
      "Parameters : {'C': 0.4, 'penalty': 'l2'}\n",
      "Mean Test Score : 0.7803163444639719\n",
      "Rank Test Score: 3\n",
      "Parameters : {'C': 0.8, 'penalty': 'l1'}\n",
      "Mean Test Score : 0.7838312829525483\n",
      "Rank Test Score: 1\n",
      "Parameters : {'C': 0.8, 'penalty': 'l2'}\n",
      "Mean Test Score : 0.7750439367311072\n",
      "Rank Test Score: 10\n"
     ]
    }
   ],
   "source": [
    "# finding out best max depth value for this model\n",
    "for i in range(len(parameters['C'])):\n",
    "    print('Parameters :', grid_search.cv_results_['params'][i])\n",
    "    print('Mean Test Score :', grid_search.cv_results_['mean_test_score'][i])\n",
    "    print('Rank Test Score:', grid_search.cv_results_['rank_test_score'][i])"
   ]
  },
  {
   "cell_type": "code",
   "execution_count": 36,
   "metadata": {},
   "outputs": [],
   "source": [
    "# building logistic model\n",
    "logistic_model = LogisticRegression(solver='liblinear',\\\n",
    "                                    penalty=grid_search.best_params_['penalty'],\\\n",
    "                                    C=grid_search.best_params_['C']).\\\n",
    "                                    fit(x_train, y_train)"
   ]
  },
  {
   "cell_type": "code",
   "execution_count": 37,
   "metadata": {},
   "outputs": [],
   "source": [
    "# predicting y\n",
    "y_pred = logistic_model.predict(x_test)"
   ]
  },
  {
   "cell_type": "code",
   "execution_count": 38,
   "metadata": {},
   "outputs": [
    {
     "name": "stdout",
     "output_type": "stream",
     "text": [
      "Test data count : 143\n",
      "Accuracy Score : 0.7902097902097902\n",
      "Precision Score : 0.6938775510204082\n",
      "Recall Score : 0.6938775510204082\n",
      "\n"
     ]
    }
   ],
   "source": [
    "# summarizing scores\n",
    "summarize_classification(y_test, y_pred)"
   ]
  },
  {
   "cell_type": "code",
   "execution_count": null,
   "metadata": {},
   "outputs": [],
   "source": []
  }
 ],
 "metadata": {
  "kernelspec": {
   "display_name": "Python 3",
   "language": "python",
   "name": "python3"
  },
  "language_info": {
   "codemirror_mode": {
    "name": "ipython",
    "version": 3
   },
   "file_extension": ".py",
   "mimetype": "text/x-python",
   "name": "python",
   "nbconvert_exporter": "python",
   "pygments_lexer": "ipython3",
   "version": "3.7.3"
  }
 },
 "nbformat": 4,
 "nbformat_minor": 2
}
